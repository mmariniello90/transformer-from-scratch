{
 "cells": [
  {
   "cell_type": "code",
   "execution_count": 1,
   "id": "6b66c1f9-8f5d-4e1d-95a2-cb64427915b6",
   "metadata": {},
   "outputs": [],
   "source": [
    "import numpy as np\n",
    "import pandas as pd"
   ]
  },
  {
   "cell_type": "markdown",
   "id": "8d916e8c-08c2-44b6-a090-45040e604313",
   "metadata": {},
   "source": [
    "### Data"
   ]
  },
  {
   "cell_type": "code",
   "execution_count": 10,
   "id": "99e108b6-bfc8-4055-96ef-7e61a30c6a17",
   "metadata": {},
   "outputs": [],
   "source": [
    "sentence = \"love apple phones\""
   ]
  },
  {
   "cell_type": "markdown",
   "id": "5f405e9d-7199-4384-89e8-7d990392fb73",
   "metadata": {},
   "source": [
    "### Tokenization"
   ]
  },
  {
   "cell_type": "code",
   "execution_count": 17,
   "id": "c8915bc0-e27b-4b83-8e23-47e40c33434d",
   "metadata": {},
   "outputs": [
    {
     "data": {
      "text/plain": [
       "{0: 'love', 1: 'apple', 2: 'phones'}"
      ]
     },
     "execution_count": 17,
     "metadata": {},
     "output_type": "execute_result"
    }
   ],
   "source": [
    "def tokenizer(text: str):\n",
    "    tokens = text.split()\n",
    "    tokens_id = range(len(tokens))\n",
    "    return tokens, tokens_id\n",
    "    \n",
    "vocab, tokens_id = tokenizer(text=sentence)\n",
    "tokens_map = dict(zip(tokens_id, vocab))\n",
    "\n",
    "tokens_map"
   ]
  },
  {
   "cell_type": "markdown",
   "id": "9820a10a-05ce-492e-a08e-5d4500c6bac1",
   "metadata": {},
   "source": [
    "### Parameters"
   ]
  },
  {
   "cell_type": "code",
   "execution_count": 38,
   "id": "564bf6b5-e3b5-4c71-a87d-69b66c802ae5",
   "metadata": {},
   "outputs": [],
   "source": [
    "d_model = 8 # length of the embedding"
   ]
  },
  {
   "cell_type": "markdown",
   "id": "c867b82e-2ebc-47bd-a53e-b0d30e03da0e",
   "metadata": {},
   "source": [
    "### Embeddings matrix"
   ]
  },
  {
   "cell_type": "code",
   "execution_count": 39,
   "id": "fbe1d38c-90b8-4b5e-ae72-86765283e41c",
   "metadata": {},
   "outputs": [
    {
     "data": {
      "text/plain": [
       "array([[0.2211634 , 0.69439492, 0.36936225, 0.86255396, 0.21836561,\n",
       "        0.68133071, 0.14679918, 0.2067474 ],\n",
       "       [0.63008471, 0.11643044, 0.89792268, 0.11410437, 0.81622155,\n",
       "        0.71976018, 0.13000252, 0.53951498],\n",
       "       [0.63619635, 0.81164294, 0.04454184, 0.08408191, 0.42980426,\n",
       "        0.75182829, 0.54931108, 0.54083379]])"
      ]
     },
     "metadata": {},
     "output_type": "display_data"
    },
    {
     "name": "stdout",
     "output_type": "stream",
     "text": [
      "(3, 8)\n"
     ]
    }
   ],
   "source": [
    "id_embedding_map = {token: np.random.rand(d_model) for token in tokens_id}\n",
    "\n",
    "embeddings_matrix = np.stack(list(id_embedding_map.values()))\n",
    "\n",
    "display(embeddings_matrix)\n",
    "\n",
    "print(embeddings_matrix.shape) # len vocal * d_model"
   ]
  },
  {
   "cell_type": "markdown",
   "id": "fc25aa17-8311-45a9-8dce-49caa906ffff",
   "metadata": {},
   "source": [
    "### Positional encoding"
   ]
  },
  {
   "cell_type": "code",
   "execution_count": 6,
   "id": "592ba8b4-aaff-4602-9dea-a7e14b2ab315",
   "metadata": {},
   "outputs": [
    {
     "data": {
      "text/plain": [
       "array([0.41877164, 0.7406083 , 0.63273887, 0.68288812, 0.24344543,\n",
       "       0.41136283, 0.78814334, 0.22040503])"
      ]
     },
     "execution_count": 6,
     "metadata": {},
     "output_type": "execute_result"
    }
   ],
   "source": [
    "token_map['love']"
   ]
  },
  {
   "cell_type": "code",
   "execution_count": 7,
   "id": "5b92f405-d2bd-48e0-975a-8f9f4a5f9776",
   "metadata": {},
   "outputs": [],
   "source": [
    "emb_matrix = np.stack([token_map['love'], token_map['apple'], token_map['phones']])"
   ]
  },
  {
   "cell_type": "code",
   "execution_count": 8,
   "id": "940f42ae-e0fe-4dfa-ad88-2a3efade9c3f",
   "metadata": {},
   "outputs": [
    {
     "data": {
      "text/plain": [
       "((3, 8),\n",
       " array([[0.41877164, 0.7406083 , 0.63273887, 0.68288812, 0.24344543,\n",
       "         0.41136283, 0.78814334, 0.22040503],\n",
       "        [0.70662576, 0.72096715, 0.96152015, 0.29253428, 0.10501819,\n",
       "         0.73607981, 0.18918026, 0.57251864],\n",
       "        [0.95471975, 0.54944374, 0.80016661, 0.17687654, 0.76162503,\n",
       "         0.40311445, 0.29652235, 0.16036981]]))"
      ]
     },
     "execution_count": 8,
     "metadata": {},
     "output_type": "execute_result"
    }
   ],
   "source": [
    "emb_matrix.shape, emb_matrix"
   ]
  },
  {
   "cell_type": "code",
   "execution_count": 100,
   "id": "c5e8d79b-0f2e-4773-8856-b0110459971a",
   "metadata": {},
   "outputs": [],
   "source": [
    "d_k = 4\n",
    "W_size = (emb_size, d_k)\n",
    "\n",
    "\n",
    "# key[query] = value\n",
    "W_k = np.random.rand(W_size[0], W_size[1])\n",
    "W_q = np.random.rand(W_size[0], W_size[1])\n",
    "W_v = np.random.rand(W_size[0], W_size[1])"
   ]
  },
  {
   "cell_type": "code",
   "execution_count": 101,
   "id": "ecc6a386-2a68-422e-881b-d935b0605cdd",
   "metadata": {},
   "outputs": [
    {
     "data": {
      "text/plain": [
       "((3, 8), (8, 4))"
      ]
     },
     "execution_count": 101,
     "metadata": {},
     "output_type": "execute_result"
    }
   ],
   "source": [
    "emb_matrix.shape, W_k.shape"
   ]
  },
  {
   "cell_type": "code",
   "execution_count": 102,
   "id": "50360fee-4a28-4602-9d32-a37b289177b2",
   "metadata": {},
   "outputs": [],
   "source": [
    "K = emb_matrix @ W_k\n",
    "Q = emb_matrix @ W_q\n",
    "V = emb_matrix @ W_v\n"
   ]
  },
  {
   "cell_type": "code",
   "execution_count": 103,
   "id": "fd531ddb-8e1c-41b5-ba49-482e74f53c56",
   "metadata": {},
   "outputs": [
    {
     "data": {
      "text/plain": [
       "array([[1.45893212, 1.19566837, 2.17222035, 1.56792241],\n",
       "       [1.2115007 , 0.87211912, 1.30452795, 1.98723794],\n",
       "       [2.12727217, 2.38541076, 3.93914035, 2.55554526]])"
      ]
     },
     "execution_count": 103,
     "metadata": {},
     "output_type": "execute_result"
    }
   ],
   "source": [
    "K"
   ]
  },
  {
   "cell_type": "code",
   "execution_count": 104,
   "id": "e5632ba0-fd08-4274-94a2-4743e05048b0",
   "metadata": {},
   "outputs": [
    {
     "data": {
      "text/plain": [
       "array([[ 5.13470108,  4.30316311,  8.99236314],\n",
       "       [ 4.51981817,  3.98235005,  7.73965995],\n",
       "       [ 9.19920378,  7.74679662, 15.98709869]])"
      ]
     },
     "execution_count": 104,
     "metadata": {},
     "output_type": "execute_result"
    }
   ],
   "source": [
    "# similarty = Q * K.T\n",
    "Q.shape, K.shape, K.T.shape\n",
    "\n",
    "sim_matrix = (Q @ K.T) / np.sqrt(d_k)\n",
    "sim_matrix"
   ]
  },
  {
   "cell_type": "code",
   "execution_count": 105,
   "id": "c5bd01cf-5b98-48a1-aec5-5456858b782c",
   "metadata": {},
   "outputs": [],
   "source": [
    "df = pd.DataFrame(sim_matrix, index=[f\"K_{token}\" for token in vocab], columns=[f\"Q_{token}\" for token in vocab])"
   ]
  },
  {
   "cell_type": "code",
   "execution_count": 106,
   "id": "40d40ba7-6825-4783-b381-445233bb1c65",
   "metadata": {},
   "outputs": [
    {
     "data": {
      "text/html": [
       "<div>\n",
       "<style scoped>\n",
       "    .dataframe tbody tr th:only-of-type {\n",
       "        vertical-align: middle;\n",
       "    }\n",
       "\n",
       "    .dataframe tbody tr th {\n",
       "        vertical-align: top;\n",
       "    }\n",
       "\n",
       "    .dataframe thead th {\n",
       "        text-align: right;\n",
       "    }\n",
       "</style>\n",
       "<table border=\"1\" class=\"dataframe\">\n",
       "  <thead>\n",
       "    <tr style=\"text-align: right;\">\n",
       "      <th></th>\n",
       "      <th>Q_love</th>\n",
       "      <th>Q_apple</th>\n",
       "      <th>Q_phones</th>\n",
       "    </tr>\n",
       "  </thead>\n",
       "  <tbody>\n",
       "    <tr>\n",
       "      <th>K_love</th>\n",
       "      <td>5.134701</td>\n",
       "      <td>4.303163</td>\n",
       "      <td>8.992363</td>\n",
       "    </tr>\n",
       "    <tr>\n",
       "      <th>K_apple</th>\n",
       "      <td>4.519818</td>\n",
       "      <td>3.982350</td>\n",
       "      <td>7.739660</td>\n",
       "    </tr>\n",
       "    <tr>\n",
       "      <th>K_phones</th>\n",
       "      <td>9.199204</td>\n",
       "      <td>7.746797</td>\n",
       "      <td>15.987099</td>\n",
       "    </tr>\n",
       "  </tbody>\n",
       "</table>\n",
       "</div>"
      ],
      "text/plain": [
       "            Q_love   Q_apple   Q_phones\n",
       "K_love    5.134701  4.303163   8.992363\n",
       "K_apple   4.519818  3.982350   7.739660\n",
       "K_phones  9.199204  7.746797  15.987099"
      ]
     },
     "execution_count": 106,
     "metadata": {},
     "output_type": "execute_result"
    }
   ],
   "source": [
    "df"
   ]
  },
  {
   "cell_type": "markdown",
   "id": "344bc6bb-107e-40b3-afce-883f1f274716",
   "metadata": {},
   "source": [
    "The similarity between:\n",
    "- love and love is 22.81\n",
    "- apple and love is 15.60\n",
    "- phones and love is 14.86\n",
    "- ect.."
   ]
  },
  {
   "cell_type": "code",
   "execution_count": 107,
   "id": "79019022-8189-463c-adad-01eb817efefb",
   "metadata": {},
   "outputs": [],
   "source": [
    "softmax = lambda x: np.exp(x) / sum(np.exp(x))"
   ]
  },
  {
   "cell_type": "code",
   "execution_count": 108,
   "id": "f9f7ef37-39f1-42ef-8e25-57f0a266c043",
   "metadata": {},
   "outputs": [
    {
     "data": {
      "text/plain": [
       "array([5.13470108, 4.51981817, 9.19920378])"
      ]
     },
     "execution_count": 108,
     "metadata": {},
     "output_type": "execute_result"
    }
   ],
   "source": [
    "sim_matrix[:, 0]"
   ]
  },
  {
   "cell_type": "code",
   "execution_count": 109,
   "id": "a73e016c-917d-479a-aa51-0e1d1fdd1780",
   "metadata": {},
   "outputs": [
    {
     "data": {
      "text/plain": [
       "array([[0.017, 0.03 , 0.001],\n",
       "       [0.009, 0.022, 0.   ],\n",
       "       [0.974, 0.948, 0.999]])"
      ]
     },
     "execution_count": 109,
     "metadata": {},
     "output_type": "execute_result"
    }
   ],
   "source": [
    "np.round(softmax(sim_matrix), 3)"
   ]
  },
  {
   "cell_type": "code",
   "execution_count": 112,
   "id": "ef12e443-7e9f-4c45-b71f-927a3cce311e",
   "metadata": {},
   "outputs": [
    {
     "data": {
      "text/html": [
       "<div>\n",
       "<style scoped>\n",
       "    .dataframe tbody tr th:only-of-type {\n",
       "        vertical-align: middle;\n",
       "    }\n",
       "\n",
       "    .dataframe tbody tr th {\n",
       "        vertical-align: top;\n",
       "    }\n",
       "\n",
       "    .dataframe thead th {\n",
       "        text-align: right;\n",
       "    }\n",
       "</style>\n",
       "<table border=\"1\" class=\"dataframe\">\n",
       "  <thead>\n",
       "    <tr style=\"text-align: right;\">\n",
       "      <th></th>\n",
       "      <th>Q_love</th>\n",
       "      <th>Q_apple</th>\n",
       "      <th>Q_phones</th>\n",
       "    </tr>\n",
       "  </thead>\n",
       "  <tbody>\n",
       "    <tr>\n",
       "      <th>K_love</th>\n",
       "      <td>0.017</td>\n",
       "      <td>0.030</td>\n",
       "      <td>0.001</td>\n",
       "    </tr>\n",
       "    <tr>\n",
       "      <th>K_apple</th>\n",
       "      <td>0.009</td>\n",
       "      <td>0.022</td>\n",
       "      <td>0.000</td>\n",
       "    </tr>\n",
       "    <tr>\n",
       "      <th>K_phones</th>\n",
       "      <td>0.974</td>\n",
       "      <td>0.948</td>\n",
       "      <td>0.999</td>\n",
       "    </tr>\n",
       "  </tbody>\n",
       "</table>\n",
       "</div>"
      ],
      "text/plain": [
       "          Q_love  Q_apple  Q_phones\n",
       "K_love     0.017    0.030     0.001\n",
       "K_apple    0.009    0.022     0.000\n",
       "K_phones   0.974    0.948     0.999"
      ]
     },
     "execution_count": 112,
     "metadata": {},
     "output_type": "execute_result"
    }
   ],
   "source": [
    "pd.DataFrame(np.round(softmax(sim_matrix), 3), index=[f\"K_{token}\" for token in vocab], columns=[f\"Q_{token}\" for token in vocab])"
   ]
  },
  {
   "cell_type": "code",
   "execution_count": 110,
   "id": "3904f2e5-98ef-4286-8958-b793359f57b6",
   "metadata": {},
   "outputs": [
    {
     "data": {
      "text/plain": [
       "array([[0.03131855, 0.10442809, 0.07778439, 0.0703663 ],\n",
       "       [0.02000873, 0.06780311, 0.05100821, 0.04645246],\n",
       "       [2.81851024, 7.77997329, 5.5647107 , 5.08955999]])"
      ]
     },
     "execution_count": 110,
     "metadata": {},
     "output_type": "execute_result"
    }
   ],
   "source": [
    "# Attention -> softmax(Q * K.T) * V\n",
    "attention = softmax(sim_matrix) @ V\n",
    "attention"
   ]
  },
  {
   "cell_type": "markdown",
   "id": "d46d32bf-5729-467f-8501-8e87bb22f1ec",
   "metadata": {},
   "source": [
    "Each row is a new vector rapresentation of each word"
   ]
  },
  {
   "cell_type": "code",
   "execution_count": 111,
   "id": "5e16b159-74b5-433d-bcc2-1bd6ccd4ff3c",
   "metadata": {},
   "outputs": [
    {
     "name": "stdout",
     "output_type": "stream",
     "text": [
      "new love: [0.03131855 0.10442809 0.07778439 0.0703663 ]\n",
      "new apple: [0.02000873 0.06780311 0.05100821 0.04645246]\n",
      "new phones: [2.81851024 7.77997329 5.5647107  5.08955999]\n"
     ]
    }
   ],
   "source": [
    "for t, e in zip(vocab, attention):\n",
    "    print(f\"new {t}: {e}\")"
   ]
  },
  {
   "cell_type": "code",
   "execution_count": 198,
   "id": "889df295-7b02-4463-887a-847a878b2631",
   "metadata": {},
   "outputs": [],
   "source": [
    "def n_head_attention(embeddings, d_k, h):\n",
    "\n",
    "    embedding_size = embeddings.shape[1]\n",
    "    weights_size = (embedding_size, d_k)\n",
    "    \n",
    "    attention_res = []\n",
    "    for i in range(h):\n",
    "        #np.random.seed(np.random.randint(1,1e4)+i)\n",
    "    \n",
    "        W_k = np.random.rand(weights_size[0], weights_size[1])\n",
    "        W_q = np.random.rand(weights_size[0], weights_size[1])\n",
    "        W_v = np.random.rand(weights_size[0], weights_size[1])\n",
    "\n",
    "        K = emb_matrix @ W_k\n",
    "        Q = emb_matrix @ W_q\n",
    "        V = emb_matrix @ W_v\n",
    "\n",
    "        sim_matrix = (Q @ K.T) / np.sqrt(d_k)\n",
    "    \n",
    "        softmax = lambda x: np.exp(x) / sum(np.exp(x))\n",
    "    \n",
    "        attention = softmax(sim_matrix) @ V\n",
    "        attention_res.append(attention)\n",
    "        \n",
    "    Z = np.concatenate(attention_res, axis=1)\n",
    "\n",
    "    if h == 1:\n",
    "        return Z\n",
    "    else:\n",
    "        W_size = (Z.shape[1], Z.shape[1])\n",
    "        W = np.random.rand(W_size[0], W_size[1])\n",
    "        return Z @ W\n",
    "\n",
    "    "
   ]
  },
  {
   "cell_type": "code",
   "execution_count": 199,
   "id": "45101b1b-fc99-4bcb-9949-a5731bb1398a",
   "metadata": {},
   "outputs": [
    {
     "data": {
      "text/plain": [
       "array([[0.8482495 , 0.04986637, 0.20562791, 0.00952236, 0.7270191 ,\n",
       "        0.30272993, 0.31550052, 0.75498885],\n",
       "       [0.01020411, 0.46739105, 0.62422444, 0.03273259, 0.61797146,\n",
       "        0.09025172, 0.37094097, 0.85199983],\n",
       "       [0.97150613, 0.79062842, 0.32382685, 0.43282455, 0.9664548 ,\n",
       "        0.91237783, 0.94665745, 0.40381436]])"
      ]
     },
     "execution_count": 199,
     "metadata": {},
     "output_type": "execute_result"
    }
   ],
   "source": [
    "emb_matrix"
   ]
  },
  {
   "cell_type": "code",
   "execution_count": 264,
   "id": "f7f45d75-0700-4e52-b1ec-3d0f5f247968",
   "metadata": {},
   "outputs": [
    {
     "data": {
      "text/plain": [
       "(array([[ 0.26067747,  0.19735795,  0.28705563,  0.26752556,  0.31587338,\n",
       "          0.32323668,  0.36059919,  0.25382411],\n",
       "        [ 0.16023055,  0.16389428,  0.19684965,  0.17434367,  0.20264101,\n",
       "          0.20655836,  0.24782561,  0.1604081 ],\n",
       "        [21.22157975, 16.22442643, 22.93735473, 21.80570828, 25.71128897,\n",
       "         25.70816382, 29.27994577, 20.24212384]]),\n",
       " (3, 8))"
      ]
     },
     "execution_count": 264,
     "metadata": {},
     "output_type": "execute_result"
    }
   ],
   "source": [
    "res = n_head_attention(embeddings=emb_matrix, d_k=4, h=2)\n",
    "res, res.shape"
   ]
  },
  {
   "cell_type": "code",
   "execution_count": 263,
   "id": "37464428-41aa-48c0-ac57-ad673ec32b23",
   "metadata": {},
   "outputs": [
    {
     "ename": "AxisError",
     "evalue": "axis 1 is out of bounds for array of dimension 1",
     "output_type": "error",
     "traceback": [
      "\u001b[31m---------------------------------------------------------------------------\u001b[39m",
      "\u001b[31mAxisError\u001b[39m                                 Traceback (most recent call last)",
      "\u001b[36mCell\u001b[39m\u001b[36m \u001b[39m\u001b[32mIn[263]\u001b[39m\u001b[32m, line 1\u001b[39m\n\u001b[32m----> \u001b[39m\u001b[32m1\u001b[39m \u001b[43mnp\u001b[49m\u001b[43m.\u001b[49m\u001b[43mconcatenate\u001b[49m\u001b[43m(\u001b[49m\n\u001b[32m      2\u001b[39m \u001b[43m    \u001b[49m\u001b[43mn_head_attention\u001b[49m\u001b[43m(\u001b[49m\u001b[43membeddings\u001b[49m\u001b[43m=\u001b[49m\u001b[43memb_matrix\u001b[49m\u001b[43m,\u001b[49m\u001b[43m \u001b[49m\u001b[43md_k\u001b[49m\u001b[43m=\u001b[49m\u001b[32;43m4\u001b[39;49m\u001b[43m,\u001b[49m\u001b[43m \u001b[49m\u001b[43mh\u001b[49m\u001b[43m=\u001b[49m\u001b[32;43m3\u001b[39;49m\u001b[43m)\u001b[49m\u001b[43m,\u001b[49m\u001b[43m \u001b[49m\u001b[43maxis\u001b[49m\u001b[43m=\u001b[49m\u001b[32;43m1\u001b[39;49m\n\u001b[32m      3\u001b[39m \u001b[43m)\u001b[49m\n",
      "\u001b[31mAxisError\u001b[39m: axis 1 is out of bounds for array of dimension 1"
     ]
    }
   ],
   "source": [
    "np.concatenate(\n",
    "    n_head_attention(embeddings=emb_matrix, d_k=4, h=3), axis=1\n",
    ")"
   ]
  },
  {
   "cell_type": "code",
   "execution_count": 149,
   "id": "fa76eb21-3533-4cb7-ba70-13f22afeaead",
   "metadata": {},
   "outputs": [
    {
     "data": {
      "text/plain": [
       "1000.0"
      ]
     },
     "execution_count": 149,
     "metadata": {},
     "output_type": "execute_result"
    }
   ],
   "source": [
    "1e3"
   ]
  },
  {
   "cell_type": "code",
   "execution_count": 156,
   "id": "d30d31ef-8753-49c1-bc11-285bbbccc004",
   "metadata": {},
   "outputs": [],
   "source": [
    "np.random.seed(100)"
   ]
  },
  {
   "cell_type": "code",
   "execution_count": 218,
   "id": "e9f380b0-8737-442c-b22d-d93345747e9f",
   "metadata": {},
   "outputs": [
    {
     "data": {
      "text/plain": [
       "(np.float64(1.76e-86), np.float64(1.0))"
      ]
     },
     "execution_count": 218,
     "metadata": {},
     "output_type": "execute_result"
    }
   ],
   "source": [
    "np.sin(22/(10000**22/8)), np.cos(53/(10000**53/8))"
   ]
  },
  {
   "cell_type": "code",
   "execution_count": 252,
   "id": "ece65165-34e0-4d9f-8955-ff6482eda8a3",
   "metadata": {},
   "outputs": [],
   "source": [
    "length = 50\n",
    "pos_emb = []\n",
    "for i in range(length):\n",
    "    if i % 2 == 0:\n",
    "        pos_emb.append(np.sin(i/(10000**i/length)))\n",
    "    else:\n",
    "        pos_emb.append(np.cos(i/(10000**i/length)))"
   ]
  },
  {
   "cell_type": "code",
   "execution_count": 255,
   "id": "09685b66-f513-45ce-b5a5-d99470cd6742",
   "metadata": {},
   "outputs": [],
   "source": [
    "import numpy as np\n",
    "\n",
    "def sinusoidal_positional_encoding(seq_len, d_model):\n",
    "    \"\"\"\n",
    "    Returns a numpy array of shape (seq_len, d_model)\n",
    "    containing sinusoidal positional encodings.\n",
    "    \"\"\"\n",
    "    # positions: [0, 1, 2, ..., seq_len-1]\n",
    "    positions = np.arange(seq_len)[:, np.newaxis]  # (seq_len, 1)\n",
    "    \n",
    "    # dimensions: [0, 1, 2, ..., d_model-1]\n",
    "    dims = np.arange(d_model)[np.newaxis, :]       # (1, d_model)\n",
    "    \n",
    "    # Calculate the 'div_term' = 10000^(2i / d_model) for even and odd indices\n",
    "    # We only need to handle the factor for the even dimension indices\n",
    "    # but we can do so by dividing dims//2 when forming the exponent:\n",
    "    div_term = np.power(10000.0, (dims // 2) * 2.0 / d_model)\n",
    "    \n",
    "    # Create an empty matrix for storing the encoding\n",
    "    pe = np.zeros((seq_len, d_model))\n",
    "    \n",
    "    # Even dims: use sine\n",
    "    pe[:, 0::2] = np.sin(positions / div_term[:, 0::2])\n",
    "    \n",
    "    # Odd dims: use cosine\n",
    "    pe[:, 1::2] = np.cos(positions / div_term[:, 1::2])\n",
    "    \n",
    "    return pe"
   ]
  },
  {
   "cell_type": "code",
   "execution_count": 262,
   "id": "fdadc577-9eef-458b-b69c-bf575a7180ec",
   "metadata": {},
   "outputs": [
    {
     "name": "stdout",
     "output_type": "stream",
     "text": [
      "[[ 0.00000000e+00  1.00000000e+00  0.00000000e+00  1.00000000e+00\n",
      "   0.00000000e+00  1.00000000e+00  0.00000000e+00  1.00000000e+00]\n",
      " [ 8.41470985e-01  5.40302306e-01  9.98334166e-02  9.95004165e-01\n",
      "   9.99983333e-03  9.99950000e-01  9.99999833e-04  9.99999500e-01]\n",
      " [ 9.09297427e-01 -4.16146837e-01  1.98669331e-01  9.80066578e-01\n",
      "   1.99986667e-02  9.99800007e-01  1.99999867e-03  9.99998000e-01]]\n"
     ]
    },
    {
     "data": {
      "text/plain": [
       "[<matplotlib.lines.Line2D at 0x11a4c3990>,\n",
       " <matplotlib.lines.Line2D at 0x11a88db10>,\n",
       " <matplotlib.lines.Line2D at 0x11a5f8210>,\n",
       " <matplotlib.lines.Line2D at 0x11a5aa2d0>,\n",
       " <matplotlib.lines.Line2D at 0x11a498090>,\n",
       " <matplotlib.lines.Line2D at 0x11a4c09d0>,\n",
       " <matplotlib.lines.Line2D at 0x11a5a8dd0>,\n",
       " <matplotlib.lines.Line2D at 0x11a4c1610>]"
      ]
     },
     "execution_count": 262,
     "metadata": {},
     "output_type": "execute_result"
    },
    {
     "data": {
      "image/png": "[encoded data removed]",
      "text/plain": [
       "<Figure size 640x480 with 1 Axes>"
      ]
     },
     "metadata": {},
     "output_type": "display_data"
    }
   ],
   "source": [
    "import matplotlib.pyplot as plt\n",
    "\n",
    "print(sinusoidal_positional_encoding(seq_len=3, d_model=8))\n",
    "plt.plot(sinusoidal_positional_encoding(seq_len=3, d_model=8))"
   ]
  },
  {
   "cell_type": "code",
   "execution_count": 265,
   "id": "b5189409-bf5c-4a3c-91aa-cd0c3ebf9d1b",
   "metadata": {},
   "outputs": [
    {
     "data": {
      "text/plain": [
       "array([[0.8482495 , 0.04986637, 0.20562791, 0.00952236, 0.7270191 ,\n",
       "        0.30272993, 0.31550052, 0.75498885],\n",
       "       [0.01020411, 0.46739105, 0.62422444, 0.03273259, 0.61797146,\n",
       "        0.09025172, 0.37094097, 0.85199983],\n",
       "       [0.97150613, 0.79062842, 0.32382685, 0.43282455, 0.9664548 ,\n",
       "        0.91237783, 0.94665745, 0.40381436]])"
      ]
     },
     "execution_count": 265,
     "metadata": {},
     "output_type": "execute_result"
    }
   ],
   "source": [
    "emb_matrix"
   ]
  },
  {
   "cell_type": "code",
   "execution_count": 266,
   "id": "4e99d287-075e-4451-a152-6ca981476b06",
   "metadata": {},
   "outputs": [],
   "source": [
    "pos_emb = sinusoidal_positional_encoding(3, 8)"
   ]
  },
  {
   "cell_type": "code",
   "execution_count": 269,
   "id": "1d9fb1cd-733a-4185-840a-4bd5d30ba749",
   "metadata": {},
   "outputs": [
    {
     "data": {
      "text/plain": [
       "array([[0.8482495 , 1.04986637, 0.20562791, 1.00952236, 0.7270191 ,\n",
       "        1.30272993, 0.31550052, 1.75498885],\n",
       "       [0.85167509, 1.00769336, 0.72405785, 1.02773675, 0.62797129,\n",
       "        1.09020172, 0.37194097, 1.85199933],\n",
       "       [1.88080356, 0.37448159, 0.52249618, 1.41289113, 0.98645346,\n",
       "        1.91217784, 0.94865745, 1.40381236]])"
      ]
     },
     "execution_count": 269,
     "metadata": {},
     "output_type": "execute_result"
    }
   ],
   "source": [
    "emb_matrix + pos_emb"
   ]
  },
  {
   "cell_type": "code",
   "execution_count": 276,
   "id": "8019cf54-9ba0-42b1-9822-6cdfec244f7e",
   "metadata": {},
   "outputs": [
    {
     "data": {
      "text/plain": [
       "array([[ 0.45607576,  0.45536348,  0.5579262 ,  0.38398803,  0.50055021,\n",
       "         0.29944164,  0.47668296,  0.14353446],\n",
       "       [ 0.41273181,  0.41330975,  0.50595181,  0.3488846 ,  0.45378019,\n",
       "         0.27152128,  0.43204677,  0.13011043],\n",
       "       [24.55495672, 27.79308961, 30.05972362, 17.74366122, 22.26737482,\n",
       "        16.77786588, 27.71841422,  8.38584514]])"
      ]
     },
     "execution_count": 276,
     "metadata": {},
     "output_type": "execute_result"
    }
   ],
   "source": [
    "n_head_attention(embeddings=emb_matrix + pos_emb, d_k=4, h=2)"
   ]
  },
  {
   "cell_type": "code",
   "execution_count": null,
   "id": "cebfc39f-00ca-4020-bd31-6e1ed60de98c",
   "metadata": {},
   "outputs": [],
   "source": []
  }
 ],
 "metadata": {
  "kernelspec": {
   "display_name": "transformers-py3.11",
   "language": "python",
   "name": "transformers-py3.11"
  },
  "language_info": {
   "codemirror_mode": {
    "name": "ipython",
    "version": 3
   },
   "file_extension": ".py",
   "mimetype": "text/x-python",
   "name": "python",
   "nbconvert_exporter": "python",
   "pygments_lexer": "ipython3",
   "version": "3.11.7"
  }
 },
 "nbformat": 4,
 "nbformat_minor": 5
}
